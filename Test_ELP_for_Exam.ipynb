{
  "nbformat": 4,
  "nbformat_minor": 0,
  "metadata": {
    "colab": {
      "private_outputs": true,
      "provenance": [],
      "include_colab_link": true
    },
    "kernelspec": {
      "name": "python3",
      "display_name": "Python 3"
    },
    "language_info": {
      "name": "python"
    }
  },
  "cells": [
    {
      "cell_type": "markdown",
      "metadata": {
        "id": "view-in-github",
        "colab_type": "text"
      },
      "source": [
        "<a href=\"https://colab.research.google.com/github/JoseDelosReyes/ISYS2001/blob/main/Test_ELP_for_Exam.ipynb\" target=\"_parent\"><img src=\"https://colab.research.google.com/assets/colab-badge.svg\" alt=\"Open In Colab\"/></a>"
      ]
    },
    {
      "cell_type": "markdown",
      "source": [
        "# Extended Learning Portfolio\n",
        "## ISYS2001 Introduction to Business Programming\n",
        "### School of Management\n",
        "### Semester 1 2024\n",
        "\n",
        "### Examination Instructions\n",
        "\n",
        "**Format:** This examination is open-book. You may use textbooks, web content,\n",
        "and AI tools to complete the exam. All submitted work must be your own, and any\n",
        "external ideas or work must be properly referenced.\n",
        "\n",
        "\n",
        "**Collaboration:** Do not discuss your responses with fellow students. For any\n",
        "inquiries about the questions, contact the instructor directly. All questions\n",
        "and responses will be posted on the discussion forum.\n",
        "\n",
        "\n",
        "**Duration:** You have 24 hours to complete the exam, starting from the official\n",
        "exam start time. This timeframe is fixed, regardless of when you begin. If you\n",
        "have a CAP arrangement, your exam duration will be adjusted accordingly. Contact\n",
        "me immediately if you believe your CAP accommodations are not adequately\n",
        "addressed.\n",
        "\n",
        "\n",
        "**Questions:** The exam consists of four questions. Answer all of them. Each question can be answered in its own notebook, or you can use one notebook for all questions except for Question 4, which can be submitted as a Microsoft Word document or PDF.\n",
        "\n",
        "\n",
        "**Use of AI Tools:** Transparent and ethical use of Generative AI (Gen-AI) is allowed and expected. Include either copies of all AI conversations or a document containing links to the conversations (if your AI tool provides this). For each question, indicate or reference the relevant AI conversation. *Acknowledge or explain where any AI-generated solution differs from the course material. This includes using advanced techniques or concepts not covered in the course, such as unit testing with pytest or object-oriented programming (OOP) if not taught.*\n",
        "\n",
        "\n",
        "**Python Code:** All Python code must be executable on the Google Colab\n",
        "platform. Ensure that any additional data, files, or code required by your\n",
        "notebook are downloaded and imported within the notebook itself.\n",
        "\n",
        "**Submission Instructions:**\n",
        "\n",
        "1. Create a private GitHub repository.\n",
        "2. Upload all your responses, including the Word document or PDF for Question 4,\n",
        "   to this repository.\n",
        "3. Download a zip file of your GitHub repository.\n",
        "4. Submit this zip file via the link on Blackboard.\n",
        "5. Submit Question 4 separately via the Turnitin link on Blackboard as either a\n",
        "   Word document or a PDF.\n",
        "\n",
        "**Marking Scheme:** The exam is worth 100 marks in total, with each question\n",
        "allocated the following marks:\n",
        "\n",
        "- Question 1: 25 Marks\n",
        "- Question 2: 20 Marks\n",
        "- Question 3: 40 Marks\n",
        "- Question 4: 15 Marks\n",
        "\n",
        "**Guidelines:** Ensure your responses are well-structured, clearly written, and\n",
        "demonstrate your understanding of the course material.\n",
        "\n",
        "Good luck!\n"
      ],
      "metadata": {
        "id": "7D5etjSqJgGy"
      }
    },
    {
      "cell_type": "markdown",
      "source": [
        "\n",
        "---\n",
        "\n",
        "## Question 1: Monthly Budget Planner\n",
        "\n",
        "**Instructions:**\n",
        "\n",
        "Design and implement an application that helps users create and manage a monthly\n",
        "budget. The application should prompt the user to input their monthly income and\n",
        "various expense categories (e.g., rent, groceries, utilities, entertainment).\n",
        "Your design should:\n",
        "\n",
        "1.  Prompt the user for their monthly income and amounts for each expense\n",
        "    category.\n",
        "2.  Calculate and display the total expenses and the remaining balance after all\n",
        "    expenses.\n",
        "3.  Allow the user to repeat the process with different inputs to plan different\n",
        "    budget scenarios.\n",
        "\n",
        "Your design should demonstrate the first five steps of the development\n",
        "methodology used in ISYS2001. You can write your design in a Word document or a\n",
        "notebook. Create a notebook called `monthly_budget.ipynb` to implement your\n",
        "design. Your implementation should follow best practices and demonstrate the\n",
        "last two steps of the methodology. This includes at least input validation and\n",
        "testing.\n",
        "\n",
        "**[25 Marks]**\n",
        "\n"
      ],
      "metadata": {
        "id": "qpEpvVJwJ5rv"
      }
    },
    {
      "cell_type": "code",
      "execution_count": null,
      "metadata": {
        "id": "AkWpuubUJZ-z"
      },
      "outputs": [],
      "source": [
        "# Answer Question 1 here (or in another notebook)"
      ]
    },
    {
      "cell_type": "markdown",
      "source": [
        "---\n",
        "\n",
        "## Question 2: Code City Adventures Refactoring\n",
        "\n",
        "**Background:**\n",
        "\n",
        "\"Code City Adventures\" is a text-based adventure game where players use Python\n",
        "to solve challenges in a modern city setting. In the first level, \"The\n",
        "Neighbourhood Watch,\" the player helps organise a schedule for volunteer watch\n",
        "shifts.\n",
        "\n",
        "**Instructions:**\n",
        "\n",
        "You've been tasked with refactoring a part of the \"Code City Adventures\" game\n",
        "(Level 1: The Neighbourhood Watch). The current code snippet (provided below) is\n",
        "functional but could be improved. Your goal is to refactor the code to meet\n",
        "industry standards while maintaining the game's core functionality.\n",
        "\n",
        "**Tasks:**\n",
        "\n",
        "1.  Analyse the provided code and identify areas where it deviates from best\n",
        "    practices.\n",
        "2.  Refactor the code, applying appropriate improvements like:\n",
        "    *   Meaningful variable names\n",
        "    *   Improved function organisation\n",
        "    *   Clearer comments\n",
        "    *   Error handling (if applicable)\n",
        "    *   Any additional enhancements you deem necessary\n",
        "\n",
        "3.  Provide a brief explanation of the changes you made and why they improve the\n",
        "    code.\n",
        "\n",
        "**[20 Marks]**\n",
        "\n"
      ],
      "metadata": {
        "id": "KmPGPBI7J_No"
      }
    },
    {
      "cell_type": "code",
      "source": [
        "def schedule_volunteers(volunteers: list, shifts: list) -> dict:\n",
        "    \"\"\"\n",
        "    Assigns volunteers to available shifts based on their preferences.\n",
        "\n",
        "    >>> schedule_volunteers([\"Alice\", \"Bob\"], [\"Morning\", \"Afternoon\"])\n",
        "    {'Morning': 'Alice', 'Afternoon': 'Bob'}\n",
        "    \"\"\"\n",
        "\n",
        "    # Initialize an empty dictionary for assignments\n",
        "    assignments = []\n",
        "\n",
        "    for v in volunteers:  # Loop through the volunteers\n",
        "        # Assuming user has entered a valid shift number\n",
        "        # Get the shift preference\n",
        "        preference_num = int(input(f\"{v}, enter your preferred shift number (1-{len(shifts)}): \"))\n",
        "        preference_num -= 1  # Convert to 0-based index\n",
        "\n",
        "        assignments.append(shifts.pop(preference_num), v)\n",
        "    return assignments\n",
        "\n",
        "if __name__ == \"__main__\":\n",
        "    # List of volunteers\n",
        "    vols = [\"Alice\", \"Bob\"]\n",
        "    # List of shifts\n",
        "    shifts = [\"Morning\", \"Afternoon\"]\n",
        "\n",
        "    # Call the schedule_volunteers function\n",
        "    result = schedule_volunteers(vols, shifts)  # Typo in variable name\n",
        "\n",
        "    # Print the results\n",
        "    print(result)"
      ],
      "metadata": {
        "id": "PQqKPb5CKXAh"
      },
      "execution_count": null,
      "outputs": []
    },
    {
      "cell_type": "markdown",
      "source": [
        "---\n",
        "\n",
        "## Question 3: Code City Adventures Implementation\n",
        "\n",
        "**Background:**\n",
        "\n",
        "\"Code City Adventures\" is a text-based adventure game where players use Python\n",
        "to solve challenges in a modern city setting. In the first level, \"The\n",
        "Neighbourhood Watch,\" the player helps organise a schedule for volunteer watch\n",
        "shifts. In the second level \"The Automated Cafe\", the player helps a café\n",
        "automate its order system using conditionals to handle menu choices and\n",
        "calculate costs.\n",
        "\n",
        "**Instructions:**\n",
        "\n",
        "Implement the first level (The Neighbourhood Watch) and the second level (The\n",
        "Automated Cafe) of the \"Code City Adventures\" game in one or more Google Colab\n",
        "notebooks. Ensure your implementation includes:\n",
        "\n",
        "*   Clear instructions for the player\n",
        "*   Text-based input and output\n",
        "*   Use of variables, input, loops, and functions\n",
        "*   Proper testing with doctests and/or assertions\n",
        "*   Clear documentation (comments and docstrings)\n",
        "\n",
        "**[40 Marks]**\n",
        "\n"
      ],
      "metadata": {
        "id": "1irVDD1GKICH"
      }
    },
    {
      "cell_type": "code",
      "source": [
        "# Answer question 3 here (or in another notebook)"
      ],
      "metadata": {
        "id": "EkzNWC9iKpow"
      },
      "execution_count": null,
      "outputs": []
    },
    {
      "cell_type": "markdown",
      "source": [
        "---\n",
        "\n",
        "## Question 4: Reflective Report\n",
        "\n",
        "**Instructions:**\n",
        "\n",
        "Write a reflective report that identifies and discusses what you perceive as the\n",
        "most impactful activity within this course unit, and its contributions to your\n",
        "understanding of an ISYS2001 activity or topic. Additionally, please incorporate\n",
        "all your weekly journal entries as an appendix to this report. The report should\n",
        "be included in your GitHub repository and submitted either as a Microsoft Word\n",
        "document or PDF via the Turnitin link available on Blackboard.\n",
        "\n",
        "**[15 Marks]**\n",
        "\n",
        "---"
      ],
      "metadata": {
        "id": "9GR-Bh0AKMca"
      }
    }
  ]
}